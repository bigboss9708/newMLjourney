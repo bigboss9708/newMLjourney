{
 "cells": [
  {
   "cell_type": "code",
   "execution_count": 6,
   "metadata": {},
   "outputs": [],
   "source": [
    "#int\n",
    "#float\n",
    "#Str\n",
    "#Boolean"
   ]
  },
  {
   "cell_type": "code",
   "execution_count": 7,
   "metadata": {},
   "outputs": [
    {
     "data": {
      "text/plain": [
       "int"
      ]
     },
     "execution_count": 7,
     "metadata": {},
     "output_type": "execute_result"
    }
   ],
   "source": [
    "#int+MAth operations(+,-,/,*)\n",
    "#1 qism\n",
    "#O'zgaruvchi\n",
    "x=3\n",
    "type(x)"
   ]
  },
  {
   "cell_type": "code",
   "execution_count": 18,
   "metadata": {},
   "outputs": [
    {
     "name": "stdout",
     "output_type": "stream",
     "text": [
      "546 ning 4-darajasi: 88873149456\n"
     ]
    }
   ],
   "source": [
    "# 1. Istalgan sonni istalgan darajasini topish\n",
    "son = 546\n",
    "daraja = 4\n",
    "natija = son ** daraja\n",
    "print(f\"{son} ning {daraja}-darajasi: {natija}\")"
   ]
  },
  {
   "cell_type": "code",
   "execution_count": 17,
   "metadata": {},
   "outputs": [
    {
     "name": "stdout",
     "output_type": "stream",
     "text": [
      "Yangi so'z: Po\n"
     ]
    }
   ],
   "source": [
    "# 3. Stringning boshi va oxiridan 2-chi harflar bilan so'z hosil qilish\n",
    "berilgan_string = \"Python\"\n",
    "yangi_soz = berilgan_string[0] + berilgan_string[-2]\n",
    "print(f\"Yangi so'z: {yangi_soz}\")"
   ]
  },
  {
   "cell_type": "code",
   "execution_count": 11,
   "metadata": {},
   "outputs": [
    {
     "name": "stdout",
     "output_type": "stream",
     "text": [
      "34 raqamlar yig'indisi: 7\n"
     ]
    }
   ],
   "source": [
    "# 4. Ikki xonali sonning raqamlar yig'indisini topish\n",
    "ikki_xonali_son = 34\n",
    "raqamlar_yigindisi = sum(map(int, str(ikki_xonali_son)))\n",
    "print(f\"{ikki_xonali_son} raqamlar yig'indisi: {raqamlar_yigindisi}\")"
   ]
  },
  {
   "cell_type": "code",
   "execution_count": 13,
   "metadata": {},
   "outputs": [
    {
     "name": "stdout",
     "output_type": "stream",
     "text": [
      "Yangi qisqa so'z: Prog\n"
     ]
    }
   ],
   "source": [
    "# 5. Stringning boshidan 4 ta harfidan iborat so'z hosil qilish\n",
    "uzun_string = \"Programming\"\n",
    "yangi_qisqa_soz = uzun_string[:4]\n",
    "print(f\"Yangi qisqa so'z: {yangi_qisqa_soz}\")"
   ]
  },
  {
   "cell_type": "code",
   "execution_count": 14,
   "metadata": {},
   "outputs": [
    {
     "name": "stdout",
     "output_type": "stream",
     "text": [
      "17 ni 5 ga bo'lgandagi qoldiq: 2\n"
     ]
    }
   ],
   "source": [
    "# 6. Sonni boshqa songa bo'lgandagi qoldiqni topish\n",
    "a = 17\n",
    "b = 5\n",
    "qoldiq = a % b\n",
    "print(f\"{a} ni {b} ga bo'lgandagi qoldiq: {qoldiq}\")"
   ]
  }
 ],
 "metadata": {
  "kernelspec": {
   "display_name": "Python 3",
   "language": "python",
   "name": "python3"
  },
  "language_info": {
   "codemirror_mode": {
    "name": "ipython",
    "version": 3
   },
   "file_extension": ".py",
   "mimetype": "text/x-python",
   "name": "python",
   "nbconvert_exporter": "python",
   "pygments_lexer": "ipython3",
   "version": "3.9.6"
  }
 },
 "nbformat": 4,
 "nbformat_minor": 2
}
