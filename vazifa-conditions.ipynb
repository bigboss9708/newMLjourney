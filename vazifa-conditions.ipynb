{
 "cells": [
  {
   "cell_type": "code",
   "execution_count": null,
   "metadata": {},
   "outputs": [],
   "source": [
    "# Task 1: Password validation\n",
    "password = input(\"Parolni kiriting: \")\n",
    "\n",
    "if password == \"secret123\":  ,
    "    print(\"Parol to'g'ri!\")\n",
    "else:\n",
    "    print(\"Xato! Qayta urunib ko'ring.\")\n",
    "\n",
    "# Task 2: Grading based on score\n",
    "score = int(input(\"Baho kiriting: \"))\n"
   ]
  },
  {
   "cell_type": "code",
   "execution_count": null,
   "metadata": {},
   "outputs": [],
   "source": [
    "# Task 2: Grading based on score\n",
    "score = int(input(\"Baho kiriting: \"))\n",
    "\n",
    "if score == 5:\n",
    "    print(\"Alo\")\n",
    "elif score == 4:\n",
    "    print(\"Yaxshi\")\n",
    "elif score == 3:\n",
    "    print(\"O'rta\")\n",
    "elif score == 2:\n",
    "    print(\"Yomon\")\n",
    "else:\n",
    "    print(\"Xato baho\")"
   ]
  },
  {
   "cell_type": "code",
   "execution_count": null,
   "metadata": {},
   "outputs": [],
   "source": [
    "# Task 3: Check if a number is divisible by both 2 and 3\n",
    "number = int(input(\"Son kiriting: \"))\n",
    "\n",
    "is_divisible_by_2 = (number % 2 == 0)\n",
    "is_divisible_by_3 = (number % 3 == 0)\n",
    "\n",
    "# Check if both conditions are true\n",
    "if is_divisible_by_2 and is_divisible_by_3:\n",
    "    print(f\"{number} - 6 ga karrali son\")\n",
    "else:\n",
    "    print(\"Xatolik bor\")"
   ]
  }
 ],
 "metadata": {
  "language_info": {
   "name": "python"
  }
 },
 "nbformat": 4,
 "nbformat_minor": 2
}
